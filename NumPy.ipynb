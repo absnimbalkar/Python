{
 "cells": [
  {
   "cell_type": "code",
   "execution_count": 1,
   "id": "629ce482-6a1b-4fe6-926a-b39690e5b02b",
   "metadata": {},
   "outputs": [
    {
     "name": "stdout",
     "output_type": "stream",
     "text": [
      "Requirement already satisfied: numpy in c:\\users\\lenovo\\anaconda3\\lib\\site-packages (1.26.4)\n",
      "Note: you may need to restart the kernel to use updated packages.\n"
     ]
    }
   ],
   "source": [
    "pip install numpy"
   ]
  },
  {
   "cell_type": "code",
   "execution_count": 3,
   "id": "7e5e5ab1-e8a5-4d06-ac77-223f520a438b",
   "metadata": {},
   "outputs": [],
   "source": [
    "import numpy as np"
   ]
  },
  {
   "cell_type": "code",
   "execution_count": 19,
   "id": "a3c0b079-4ad4-454a-ab7b-268cf53ca30e",
   "metadata": {},
   "outputs": [
    {
     "name": "stdout",
     "output_type": "stream",
     "text": [
      "1D Array\n",
      "[1 2 3 4 5]\n",
      "\n",
      "2d Array\n",
      "[[1 2 3]\n",
      " [4 5 6]]\n",
      "\n",
      "3d Array\n",
      "[[[1 2]\n",
      "  [3 4]]\n",
      "\n",
      " [[5 6]\n",
      "  [7 8]]]\n"
     ]
    }
   ],
   "source": [
    "# Creating a 1D array\n",
    "arr1 = np.array([1, 2, 3, 4, 5])\n",
    "print(\"1D Array\")\n",
    "print(arr1)\n",
    "print(\"\")\n",
    "\n",
    "# Creating a 2D array\n",
    "arr2 = np.array([[1, 2, 3], [4, 5, 6]])\n",
    "print(\"2d Array\")\n",
    "print(arr2)\n",
    "print(\"\")\n",
    "\n",
    "# 3D Array\n",
    "arr3 = np.array([[[1, 2], [3, 4]], [[5, 6], [7, 8]]])\n",
    "print(\"3d Array\")\n",
    "print(arr3)"
   ]
  },
  {
   "cell_type": "code",
   "execution_count": 5,
   "id": "5770b45b-943b-438e-afd2-36d72a79b616",
   "metadata": {},
   "outputs": [
    {
     "name": "stdout",
     "output_type": "stream",
     "text": [
      "(2, 3)\n",
      "6\n",
      "int32\n"
     ]
    }
   ],
   "source": [
    "# Array Properties\n",
    "import numpy as np\n",
    "arr2 = np.array([[1, 2, 3], [4, 5, 6]])\n",
    "\n",
    "print(arr2.shape) # (2, 3) -> Rows, Columns\n",
    "print(arr2.size) # Total number of elements\n",
    "print(arr2.dtype) # Data type of elements"
   ]
  },
  {
   "cell_type": "code",
   "execution_count": 7,
   "id": "f642c340-c4db-491e-973b-d196888ebc8d",
   "metadata": {},
   "outputs": [
    {
     "name": "stdout",
     "output_type": "stream",
     "text": [
      "[5 7 9]\n",
      "[-3 -3 -3]\n",
      "[ 4 10 18]\n",
      "[0.25 0.4  0.5 ]\n",
      "32\n"
     ]
    }
   ],
   "source": [
    "# Mathematical Operations\n",
    "\n",
    "a = np.array([1, 2, 3])\n",
    "b = np.array([4, 5, 6])\n",
    "\n",
    "print(a + b) # Element-wise addition\n",
    "print(a - b) # Element-wise subtraction\n",
    "print(a * b) # Element-wise multiplication\n",
    "print(a / b) # Element-wise division\n",
    "print(np.dot(a, b)) # Dot product"
   ]
  },
  {
   "cell_type": "code",
   "execution_count": 9,
   "id": "cd35bced-ed9b-4f71-b9bf-ab1193810c69",
   "metadata": {},
   "outputs": [
    {
     "name": "stdout",
     "output_type": "stream",
     "text": [
      "[[1 2 3]\n",
      " [4 5 6]\n",
      " [7 8 9]]\n"
     ]
    }
   ],
   "source": [
    "# Array Reshaping\n",
    "\n",
    "arr = np.arange(1, 10)\n",
    "reshaped = arr.reshape(3, 3) # Reshapes 1D array into 3x3 matrix\n",
    "\n",
    "print(reshaped)"
   ]
  },
  {
   "cell_type": "code",
   "execution_count": 11,
   "id": "fe4c3b11-5e96-467b-8a0b-ccc4a031ee0e",
   "metadata": {},
   "outputs": [
    {
     "name": "stdout",
     "output_type": "stream",
     "text": [
      "20\n",
      "[20 30 40]\n"
     ]
    }
   ],
   "source": [
    "# Indexing & Slicing\n",
    "\n",
    "arr = np.array([10, 20, 30, 40, 50])\n",
    "\n",
    "print(arr[1]) # 20 (Indexing)\n",
    "print(arr[1:4]) # [20, 30, 40] (Slicing)"
   ]
  },
  {
   "cell_type": "code",
   "execution_count": 15,
   "id": "83e7e905-8b98-4218-973b-6e75248a45b6",
   "metadata": {},
   "outputs": [
    {
     "name": "stdout",
     "output_type": "stream",
     "text": [
      "100\n",
      "25.0\n",
      "11.180339887498949\n",
      "10\n",
      "40\n"
     ]
    }
   ],
   "source": [
    "# Aggregation Functions\n",
    "\n",
    "arr = np.array([10, 20, 30, 40])\n",
    "print(np.sum(arr)) # Sum of elements\n",
    "print(np.mean(arr)) # Mean of elements\n",
    "print(np.std(arr)) # Standard deviation\n",
    "print(np.min(arr)) # Minimum value\n",
    "print(np.max(arr)) # Maximum value"
   ]
  },
  {
   "cell_type": "code",
   "execution_count": 17,
   "id": "c81f7bba-1a7f-45be-b5e2-fb5ae532d38e",
   "metadata": {},
   "outputs": [
    {
     "name": "stdout",
     "output_type": "stream",
     "text": [
      "[[19 22]\n",
      " [43 50]]\n"
     ]
    }
   ],
   "source": [
    "# Matrix Multiplication\n",
    "A = np.array([[1, 2], [3, 4]])\n",
    "B = np.array([[5, 6], [7, 8]])\n",
    "# Matrix multiplication\n",
    "C = np.dot(A, B)\n",
    "print(C)\n"
   ]
  },
  {
   "cell_type": "code",
   "execution_count": 21,
   "id": "999b5619-e05a-45cf-8f18-c3aa777011b3",
   "metadata": {},
   "outputs": [
    {
     "name": "stdout",
     "output_type": "stream",
     "text": [
      "[20 30 40]\n",
      "[10 20 30]\n",
      "[10 30 50]\n",
      "[[2 3]\n",
      " [5 6]]\n"
     ]
    }
   ],
   "source": [
    "# 1D Array Slicing\n",
    "\n",
    "arr = np.array([10, 20, 30, 40, 50])\n",
    "\n",
    "print(arr[1:4]) # [20 30 40] (Elements from index 1 to 3)\n",
    "print(arr[:3]) # [10 20 30] (First three elements)\n",
    "print(arr[::2]) # [10 30 50] (Every second element)\n",
    "\n",
    "# 2D Array Slicing\n",
    "\n",
    "arr = np.array([[1, 2, 3], [4, 5, 6], [7, 8, 9]])\n",
    "\n",
    "print(arr[:2, 1:]) # Extracts first two rows, from second column onward"
   ]
  },
  {
   "cell_type": "code",
   "execution_count": 23,
   "id": "ea0ebc4c-0476-4697-ae9b-68f7c38db9bf",
   "metadata": {},
   "outputs": [
    {
     "name": "stdout",
     "output_type": "stream",
     "text": [
      "2\n",
      "(2, 3)\n",
      "6\n",
      "int32\n",
      "4\n"
     ]
    }
   ],
   "source": [
    "# NumPy arrays have various attributes that describe their properties.\n",
    "\n",
    "arr = np.array([[1, 2, 3], [4, 5, 6]])\n",
    "\n",
    "print(arr.ndim) # Number of dimensions (2D → 2)\n",
    "print(arr.shape) # Shape (Rows, Columns) → (2, 3)\n",
    "print(arr.size) # Total number of elements → 6\n",
    "print(arr.dtype) # Data type of elements → int\n",
    "print(arr.itemsize) # Memory size of each element (bytes)"
   ]
  },
  {
   "cell_type": "code",
   "execution_count": 25,
   "id": "91db5db9-86e4-4ba3-8588-707b8f422d4a",
   "metadata": {},
   "outputs": [
    {
     "name": "stdout",
     "output_type": "stream",
     "text": [
      "[5 7 9]\n",
      "[-3 -3 -3]\n",
      "[ 4 10 18]\n",
      "[0.25 0.4  0.5 ]\n"
     ]
    }
   ],
   "source": [
    "# Basic Arithmetic Operations in NumPy\n",
    "\n",
    "arr1 = np.array([1, 2, 3])\n",
    "arr2 = np.array([4, 5, 6])\n",
    "\n",
    "result = arr1 + arr2 # Element-wise addition\n",
    "print(result) # [5 7 9]\n",
    "\n",
    "# Subtraction of Arrays\n",
    "result = arr1 - arr2 # Element-wise subtraction\n",
    "print(result) # [-3 -3 -3]\n",
    "\n",
    "# Multiplication of Arrays\n",
    "result = arr1 * arr2 # Element-wise multiplication\n",
    "print(result) # [4 10 18]\n",
    "\n",
    "# Division of Arrays\n",
    "result = arr1 / arr2 # Element-wise division\n",
    "print(result) # [0.25 0.4 0.5]"
   ]
  },
  {
   "cell_type": "code",
   "execution_count": null,
   "id": "13ac2f3c-a954-43b4-8345-663eb547b207",
   "metadata": {},
   "outputs": [],
   "source": []
  }
 ],
 "metadata": {
  "kernelspec": {
   "display_name": "Python [conda env:base] *",
   "language": "python",
   "name": "conda-base-py"
  },
  "language_info": {
   "codemirror_mode": {
    "name": "ipython",
    "version": 3
   },
   "file_extension": ".py",
   "mimetype": "text/x-python",
   "name": "python",
   "nbconvert_exporter": "python",
   "pygments_lexer": "ipython3",
   "version": "3.12.7"
  }
 },
 "nbformat": 4,
 "nbformat_minor": 5
}
