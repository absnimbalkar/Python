{
 "cells": [
  {
   "cell_type": "code",
   "execution_count": 5,
   "id": "6aa31383-65b0-4e50-8df7-dcedd2ab6d2c",
   "metadata": {},
   "outputs": [
    {
     "name": "stdout",
     "output_type": "stream",
     "text": [
      "Requirement already satisfied: pandas in c:\\users\\lenovo\\anaconda3\\lib\\site-packages (2.2.2)\n",
      "Requirement already satisfied: numpy>=1.26.0 in c:\\users\\lenovo\\anaconda3\\lib\\site-packages (from pandas) (1.26.4)\n",
      "Requirement already satisfied: python-dateutil>=2.8.2 in c:\\users\\lenovo\\anaconda3\\lib\\site-packages (from pandas) (2.9.0.post0)\n",
      "Requirement already satisfied: pytz>=2020.1 in c:\\users\\lenovo\\anaconda3\\lib\\site-packages (from pandas) (2024.1)\n",
      "Requirement already satisfied: tzdata>=2022.7 in c:\\users\\lenovo\\anaconda3\\lib\\site-packages (from pandas) (2023.3)\n",
      "Requirement already satisfied: six>=1.5 in c:\\users\\lenovo\\anaconda3\\lib\\site-packages (from python-dateutil>=2.8.2->pandas) (1.16.0)\n"
     ]
    }
   ],
   "source": [
    "!pip install pandas"
   ]
  },
  {
   "cell_type": "code",
   "execution_count": 7,
   "id": "ce978cce-90c8-41d0-8fb1-a243355f2da0",
   "metadata": {},
   "outputs": [
    {
     "name": "stdout",
     "output_type": "stream",
     "text": [
      "A    10\n",
      "B    20\n",
      "C    30\n",
      "D    40\n",
      "dtype: int64\n"
     ]
    }
   ],
   "source": [
    "# Creating a Series from a list \n",
    "import pandas as pd\n",
    "data = [10,20,30 ,40]\n",
    "series = pd.Series(data , index = ['A','B','C','D'] )\n",
    "print(series)"
   ]
  },
  {
   "cell_type": "code",
   "execution_count": 13,
   "id": "594da693-d5ae-4f33-abce-c28d3171e7a1",
   "metadata": {
    "scrolled": true
   },
   "outputs": [
    {
     "name": "stdout",
     "output_type": "stream",
     "text": [
      "10\n",
      "20\n"
     ]
    },
    {
     "name": "stderr",
     "output_type": "stream",
     "text": [
      "C:\\Users\\LENOVO\\AppData\\Local\\Temp\\ipykernel_8036\\3165160280.py:4: FutureWarning: Series.__getitem__ treating keys as positions is deprecated. In a future version, integer keys will always be treated as labels (consistent with DataFrame behavior). To access a value by position, use `ser.iloc[pos]`\n",
      "  print(series[1])\n"
     ]
    }
   ],
   "source": [
    "#Accessing data in series by index and position\n",
    "\n",
    "print(series['A'])\n",
    "print(series[1])"
   ]
  },
  {
   "cell_type": "code",
   "execution_count": 15,
   "id": "b2a8361c-1c2a-4217-ad3a-f02de7f04f37",
   "metadata": {},
   "outputs": [
    {
     "name": "stdout",
     "output_type": "stream",
     "text": [
      "  Name  Age  Score\n",
      "0  Abs   29     79\n",
      "1  Sam   30     90\n",
      "2  Jon   32     91\n"
     ]
    }
   ],
   "source": [
    "#Creating a DataFrame\n",
    "\n",
    "data={\"Name\":[\"Abs\",\"Sam\",\"Jon\"],\"Age\":[29,30,32],\"Score\":[79,90,91]}\n",
    "\n",
    "df=pd.DataFrame(data)\n",
    "print(df)"
   ]
  },
  {
   "cell_type": "code",
   "execution_count": 31,
   "id": "0f82754d-cb83-483c-b67b-9d1efb24a7dc",
   "metadata": {},
   "outputs": [
    {
     "name": "stdout",
     "output_type": "stream",
     "text": [
      "Access a Column\n",
      "0    Abs\n",
      "1    Sam\n",
      "2    Jon\n",
      "Name: Name, dtype: object\n",
      "\n",
      "Access a Row\n",
      "Name     Jon\n",
      "Age       32\n",
      "Score     91\n",
      "Name: 2, dtype: object\n",
      "\n",
      "Access a Specific Value\n",
      "30\n",
      "\n"
     ]
    }
   ],
   "source": [
    "#Accesing Data in a DataFrame \n",
    "\n",
    "print(\"Access a Column\")\n",
    "print(df[\"Name\"])\n",
    "print(\"\")\n",
    "\n",
    "print(\"Access a Row\") \n",
    "print(df.loc[2])\n",
    "print(\"\")\n",
    "\n",
    "print(\"Access a Specific Value\")\n",
    "print(df.at[1,\"Age\"])\n",
    "print(\"\")"
   ]
  },
  {
   "cell_type": "code",
   "execution_count": 39,
   "id": "f38542a1-3c6f-4416-96e8-284da540b75c",
   "metadata": {},
   "outputs": [
    {
     "name": "stdout",
     "output_type": "stream",
     "text": [
      "Column\n",
      "Index(['Name', 'Age', 'Score'], dtype='object')\n",
      "\n",
      "Index\n",
      "RangeIndex(start=0, stop=3, step=1)\n",
      "\n",
      "Shape\n",
      "(3, 3)\n",
      "\n",
      "Size\n",
      "9\n",
      "\n",
      "information\n",
      "<bound method DataFrame.info of   Name  Age  Score\n",
      "0  Abs   29     79\n",
      "1  Sam   30     90\n",
      "2  Jon   32     91>\n",
      "\n",
      "Describe\n",
      "<bound method NDFrame.describe of   Name  Age  Score\n",
      "0  Abs   29     79\n",
      "1  Sam   30     90\n",
      "2  Jon   32     91>\n",
      "\n"
     ]
    }
   ],
   "source": [
    "# DataFrame SubTypes:\n",
    "\n",
    "print(\"Column\")\n",
    "print(df.columns)\n",
    "print(\"\")\n",
    "\n",
    "print(\"Index\")\n",
    "print(df.index)\n",
    "print(\"\")\n",
    "\n",
    "print(\"Shape\")\n",
    "print(df.shape)\n",
    "print(\"\")\n",
    "\n",
    "print(\"Size\")\n",
    "print(df.size)\n",
    "print(\"\")\n",
    "\n",
    "print(\"information\")\n",
    "print(df.info)\n",
    "print(\"\")\n",
    "\n",
    "print(\"Describe\")\n",
    "print(df.describe)\n",
    "print(\"\")"
   ]
  },
  {
   "cell_type": "code",
   "execution_count": 83,
   "id": "1ac84d67-1bbf-4e95-8e84-035f66915ad5",
   "metadata": {
    "scrolled": true
   },
   "outputs": [
    {
     "name": "stdout",
     "output_type": "stream",
     "text": [
      "  Name  Age  Score\n",
      "0  Abs   29     79\n",
      "1  Sam   30     90\n",
      "2  Jon   32     91\n",
      "\n",
      "Jon\n",
      "\n",
      "32\n",
      "\n",
      "Sam\n",
      "\n",
      "91\n",
      "\n"
     ]
    }
   ],
   "source": [
    "#Accessing Data using .loc[] , .iloc[] , .at[] and .iat[]\n",
    "\n",
    "print(df)\n",
    "print(\"\")\n",
    "\n",
    "print(df.loc[2,\"Name\"])\n",
    "print(\"\")\n",
    "\n",
    "print(df.iloc[2,1])\n",
    "print(\"\")\n",
    "\n",
    "print(df.at[1,\"Name\"])\n",
    "print(\"\")\n",
    "\n",
    "print(df.iat[2,2])\n",
    "print(\"\")\n"
   ]
  },
  {
   "cell_type": "code",
   "execution_count": 101,
   "id": "d5f51887-cd17-468e-838a-ef304ca80f3c",
   "metadata": {},
   "outputs": [
    {
     "name": "stdout",
     "output_type": "stream",
     "text": [
      "  Name  Age  Score\n",
      "0  Abs   29     79\n",
      "1  Sam   30     90\n",
      "2  Jon   32     91\n"
     ]
    },
    {
     "data": {
      "text/plain": [
       "0    29\n",
       "1    30\n",
       "2    32\n",
       "Name: Age, dtype: int64"
      ]
     },
     "execution_count": 101,
     "metadata": {},
     "output_type": "execute_result"
    }
   ],
   "source": [
    "#Accessing Columns by ShortHand\n",
    "\n",
    "print(df)\n",
    "\n",
    "df['Age']\n"
   ]
  },
  {
   "cell_type": "code",
   "execution_count": 103,
   "id": "02901363-7375-4df2-8804-52d394094dc1",
   "metadata": {},
   "outputs": [
    {
     "name": "stdout",
     "output_type": "stream",
     "text": [
      "  Name  Age  Score\n",
      "0  Abs   29     79\n",
      "1  Sam   30     90\n",
      "2  Jon   32     91\n"
     ]
    },
    {
     "data": {
      "text/plain": [
       "0    Abs\n",
       "1    Sam\n",
       "2    Jon\n",
       "Name: Name, dtype: object"
      ]
     },
     "execution_count": 103,
     "metadata": {},
     "output_type": "execute_result"
    }
   ],
   "source": [
    "#Accessing Columns by Dot Notation\n",
    "\n",
    "print(df)\n",
    "\n",
    "df.Name\n"
   ]
  },
  {
   "cell_type": "code",
   "execution_count": 138,
   "id": "ca274173-b47b-486b-a9f1-a6cfdc96c0cf",
   "metadata": {},
   "outputs": [
    {
     "name": "stdout",
     "output_type": "stream",
     "text": [
      "0     1\n",
      "1     4\n",
      "2     9\n",
      "3    16\n",
      "4    25\n",
      "dtype: int64\n"
     ]
    }
   ],
   "source": [
    "#Transforming Data by using Apply\n",
    "\n",
    "data = pd.Series([1,2,3,4,5])\n",
    "result = data.apply(lambda x : x**2) \n",
    "print(result)"
   ]
  },
  {
   "cell_type": "code",
   "execution_count": 153,
   "id": "f6ab88a7-70da-4af6-b2f7-f3d92d636683",
   "metadata": {},
   "outputs": [
    {
     "name": "stdout",
     "output_type": "stream",
     "text": [
      "  Gender Name  Age  Score\n",
      "0   Male  Abs   29     79\n",
      "1   Male  Sam   30     90\n",
      "2   Male  Jon   32     91\n"
     ]
    }
   ],
   "source": [
    "#Inserting a Column \n",
    "\n",
    "#df.insert(0,'Gender','male')\n",
    "print(df)"
   ]
  },
  {
   "cell_type": "code",
   "execution_count": 214,
   "id": "7feeea81-a4b4-434f-a8cb-2907998fccbd",
   "metadata": {},
   "outputs": [],
   "source": [
    "#Dropping Column\n",
    "\n",
    "#df.drop('Gender', axis = 1 , inplace = True)"
   ]
  },
  {
   "cell_type": "code",
   "execution_count": 163,
   "id": "727606d2-55ba-48ed-9146-4dbd13511f36",
   "metadata": {},
   "outputs": [
    {
     "name": "stdout",
     "output_type": "stream",
     "text": [
      "  Name  Age  Score\n",
      "0  Abs   29     79\n",
      "1  Sam   30     90\n",
      "2  Jon   32     91\n"
     ]
    }
   ],
   "source": [
    "print(df)"
   ]
  },
  {
   "cell_type": "code",
   "execution_count": 169,
   "id": "b54eb7ff-c988-468f-9e0d-31fe57fe61f2",
   "metadata": {},
   "outputs": [
    {
     "name": "stdout",
     "output_type": "stream",
     "text": [
      "  Full Name  Age  Score\n",
      "0       Abs   29     79\n",
      "1       Sam   30     90\n",
      "2       Jon   32     91\n"
     ]
    }
   ],
   "source": [
    "#Renaming Column\n",
    "\n",
    "df.rename(columns = {'Name':'Full Name'},inplace = True)\n",
    "\n",
    "print(df)"
   ]
  },
  {
   "cell_type": "code",
   "execution_count": 175,
   "id": "7c077545-1868-45db-81cf-8e3a2612f058",
   "metadata": {},
   "outputs": [
    {
     "name": "stdout",
     "output_type": "stream",
     "text": [
      "   key  Subject\n",
      "0    1  English\n",
      "1    2    Maths\n",
      "2    3  History\n",
      "   key     Mode\n",
      "0    2   Online\n",
      "1    3   Online\n",
      "2    4  Offline\n"
     ]
    }
   ],
   "source": [
    "#Merging DataFrames : Inner , Outer , Left , Right Joins\n",
    "\n",
    "df1 = pd.DataFrame({'key':[1,2,3],'Subject':['English','Maths','History']})\n",
    "\n",
    "df2 = pd.DataFrame({'key':[2,3,4],'Mode':['Online','Online','Offline']})\n",
    "\n",
    "print(df1)\n",
    "print(df2)\n",
    "\n",
    "\n"
   ]
  },
  {
   "cell_type": "code",
   "execution_count": 179,
   "id": "48990155-6a6c-4295-b736-51ddd9483968",
   "metadata": {},
   "outputs": [
    {
     "name": "stdout",
     "output_type": "stream",
     "text": [
      "   key  Subject    Mode\n",
      "0    2    Maths  Online\n",
      "1    3  History  Online\n"
     ]
    }
   ],
   "source": [
    "#Inner Join\n",
    "\n",
    "result = pd.merge(df1 , df2 , how = 'inner',on='key')\n",
    "print(result)"
   ]
  },
  {
   "cell_type": "code",
   "execution_count": 181,
   "id": "854fa7e5-ff5a-4279-880a-726423bdb4fd",
   "metadata": {},
   "outputs": [
    {
     "name": "stdout",
     "output_type": "stream",
     "text": [
      "   key  Subject     Mode\n",
      "0    1  English      NaN\n",
      "1    2    Maths   Online\n",
      "2    3  History   Online\n",
      "3    4      NaN  Offline\n"
     ]
    }
   ],
   "source": [
    "#Outer Join \n",
    "\n",
    "result = pd.merge(df1 , df2 , how = 'outer',on='key')\n",
    "print(result)"
   ]
  },
  {
   "cell_type": "code",
   "execution_count": 183,
   "id": "21e117df-0511-48ae-93d6-eec04ddc6d2a",
   "metadata": {},
   "outputs": [
    {
     "name": "stdout",
     "output_type": "stream",
     "text": [
      "   key  Subject    Mode\n",
      "0    1  English     NaN\n",
      "1    2    Maths  Online\n",
      "2    3  History  Online\n"
     ]
    }
   ],
   "source": [
    "#Left Join \n",
    "\n",
    "result = pd.merge(df1 , df2 , how = 'left',on='key')\n",
    "print(result)"
   ]
  },
  {
   "cell_type": "code",
   "execution_count": 185,
   "id": "7e2eba24-3460-4b02-8e8f-4b5816b81070",
   "metadata": {},
   "outputs": [
    {
     "name": "stdout",
     "output_type": "stream",
     "text": [
      "   key  Subject     Mode\n",
      "0    2    Maths   Online\n",
      "1    3  History   Online\n",
      "2    4      NaN  Offline\n"
     ]
    }
   ],
   "source": [
    "#Right Join \n",
    "\n",
    "result = pd.merge(df1 , df2 , how = 'right',on='key')\n",
    "print(result)"
   ]
  },
  {
   "cell_type": "code",
   "execution_count": 225,
   "id": "9210cde9-65c9-4204-8b79-4405ad1f0aa6",
   "metadata": {},
   "outputs": [
    {
     "data": {
      "text/html": [
       "<div>\n",
       "<style scoped>\n",
       "    .dataframe tbody tr th:only-of-type {\n",
       "        vertical-align: middle;\n",
       "    }\n",
       "\n",
       "    .dataframe tbody tr th {\n",
       "        vertical-align: top;\n",
       "    }\n",
       "\n",
       "    .dataframe thead th {\n",
       "        text-align: right;\n",
       "    }\n",
       "</style>\n",
       "<table border=\"1\" class=\"dataframe\">\n",
       "  <thead>\n",
       "    <tr style=\"text-align: right;\">\n",
       "      <th></th>\n",
       "      <th>Full Name</th>\n",
       "      <th>Age</th>\n",
       "      <th>Score</th>\n",
       "    </tr>\n",
       "  </thead>\n",
       "  <tbody>\n",
       "    <tr>\n",
       "      <th>0</th>\n",
       "      <td>True</td>\n",
       "      <td>True</td>\n",
       "      <td>True</td>\n",
       "    </tr>\n",
       "    <tr>\n",
       "      <th>1</th>\n",
       "      <td>True</td>\n",
       "      <td>True</td>\n",
       "      <td>True</td>\n",
       "    </tr>\n",
       "    <tr>\n",
       "      <th>2</th>\n",
       "      <td>True</td>\n",
       "      <td>True</td>\n",
       "      <td>True</td>\n",
       "    </tr>\n",
       "  </tbody>\n",
       "</table>\n",
       "</div>"
      ],
      "text/plain": [
       "   Full Name   Age  Score\n",
       "0       True  True   True\n",
       "1       True  True   True\n",
       "2       True  True   True"
      ]
     },
     "execution_count": 225,
     "metadata": {},
     "output_type": "execute_result"
    }
   ],
   "source": [
    "#Handling Null Values \n",
    "\n",
    "df.isnull()"
   ]
  },
  {
   "cell_type": "code",
   "execution_count": 227,
   "id": "890305a2-4462-47ad-80d2-6ad1bc9ac477",
   "metadata": {},
   "outputs": [
    {
     "data": {
      "text/html": [
       "<div>\n",
       "<style scoped>\n",
       "    .dataframe tbody tr th:only-of-type {\n",
       "        vertical-align: middle;\n",
       "    }\n",
       "\n",
       "    .dataframe tbody tr th {\n",
       "        vertical-align: top;\n",
       "    }\n",
       "\n",
       "    .dataframe thead th {\n",
       "        text-align: right;\n",
       "    }\n",
       "</style>\n",
       "<table border=\"1\" class=\"dataframe\">\n",
       "  <thead>\n",
       "    <tr style=\"text-align: right;\">\n",
       "      <th></th>\n",
       "      <th>Full Name</th>\n",
       "      <th>Age</th>\n",
       "      <th>Score</th>\n",
       "    </tr>\n",
       "  </thead>\n",
       "  <tbody>\n",
       "    <tr>\n",
       "      <th>0</th>\n",
       "      <td>True</td>\n",
       "      <td>True</td>\n",
       "      <td>True</td>\n",
       "    </tr>\n",
       "    <tr>\n",
       "      <th>1</th>\n",
       "      <td>True</td>\n",
       "      <td>True</td>\n",
       "      <td>True</td>\n",
       "    </tr>\n",
       "    <tr>\n",
       "      <th>2</th>\n",
       "      <td>True</td>\n",
       "      <td>True</td>\n",
       "      <td>True</td>\n",
       "    </tr>\n",
       "  </tbody>\n",
       "</table>\n",
       "</div>"
      ],
      "text/plain": [
       "   Full Name   Age  Score\n",
       "0       True  True   True\n",
       "1       True  True   True\n",
       "2       True  True   True"
      ]
     },
     "execution_count": 227,
     "metadata": {},
     "output_type": "execute_result"
    }
   ],
   "source": [
    "df.notnull()"
   ]
  },
  {
   "cell_type": "code",
   "execution_count": 233,
   "id": "a68c2c1c-1723-46d7-8b41-8aa8ee8517bd",
   "metadata": {},
   "outputs": [
    {
     "data": {
      "text/html": [
       "<div>\n",
       "<style scoped>\n",
       "    .dataframe tbody tr th:only-of-type {\n",
       "        vertical-align: middle;\n",
       "    }\n",
       "\n",
       "    .dataframe tbody tr th {\n",
       "        vertical-align: top;\n",
       "    }\n",
       "\n",
       "    .dataframe thead th {\n",
       "        text-align: right;\n",
       "    }\n",
       "</style>\n",
       "<table border=\"1\" class=\"dataframe\">\n",
       "  <thead>\n",
       "    <tr style=\"text-align: right;\">\n",
       "      <th></th>\n",
       "      <th>Full Name</th>\n",
       "      <th>Age</th>\n",
       "      <th>Score</th>\n",
       "    </tr>\n",
       "  </thead>\n",
       "  <tbody>\n",
       "    <tr>\n",
       "      <th>0</th>\n",
       "      <td>Abs</td>\n",
       "      <td>29</td>\n",
       "      <td>79</td>\n",
       "    </tr>\n",
       "    <tr>\n",
       "      <th>1</th>\n",
       "      <td>Sam</td>\n",
       "      <td>30</td>\n",
       "      <td>90</td>\n",
       "    </tr>\n",
       "    <tr>\n",
       "      <th>2</th>\n",
       "      <td>Jon</td>\n",
       "      <td>32</td>\n",
       "      <td>91</td>\n",
       "    </tr>\n",
       "  </tbody>\n",
       "</table>\n",
       "</div>"
      ],
      "text/plain": [
       "  Full Name  Age  Score\n",
       "0       Abs   29     79\n",
       "1       Sam   30     90\n",
       "2       Jon   32     91"
      ]
     },
     "execution_count": 233,
     "metadata": {},
     "output_type": "execute_result"
    }
   ],
   "source": [
    "df.dropna()"
   ]
  },
  {
   "cell_type": "code",
   "execution_count": 235,
   "id": "43018e93-8230-406b-8a66-4ba2e822ed13",
   "metadata": {},
   "outputs": [
    {
     "name": "stdout",
     "output_type": "stream",
     "text": [
      "  Full Name  Age  Score\n",
      "0       Abs   29     79\n",
      "1       Sam   30     90\n",
      "2       Jon   32     91\n"
     ]
    }
   ],
   "source": [
    "print(df)"
   ]
  },
  {
   "cell_type": "code",
   "execution_count": 290,
   "id": "4153083d-1f4b-4ecf-8f0d-716d01fa8346",
   "metadata": {},
   "outputs": [
    {
     "name": "stdout",
     "output_type": "stream",
     "text": [
      "  Name  Age  Score\n",
      "0  Abs   29     79\n",
      "1  Sam   30     90\n",
      "2  Jon   32     91\n",
      "3         0      0\n"
     ]
    }
   ],
   "source": [
    "data1={\"Name\":[\"Abs\",\"Sam\",\"Jon\",\"\"],\"Age\":[29,30,32,0],\"Score\":[79,90,91,0]}\n",
    "\n",
    "df=pd.DataFrame(data1)\n",
    "print(df)"
   ]
  },
  {
   "cell_type": "code",
   "execution_count": null,
   "id": "342c82b9-0595-422a-9e59-f7243e8da60d",
   "metadata": {},
   "outputs": [],
   "source": []
  }
 ],
 "metadata": {
  "kernelspec": {
   "display_name": "Python [conda env:base] *",
   "language": "python",
   "name": "conda-base-py"
  },
  "language_info": {
   "codemirror_mode": {
    "name": "ipython",
    "version": 3
   },
   "file_extension": ".py",
   "mimetype": "text/x-python",
   "name": "python",
   "nbconvert_exporter": "python",
   "pygments_lexer": "ipython3",
   "version": "3.12.7"
  }
 },
 "nbformat": 4,
 "nbformat_minor": 5
}
